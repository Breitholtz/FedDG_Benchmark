{
 "cells": [
  {
   "cell_type": "code",
   "execution_count": 4,
   "id": "74195e89",
   "metadata": {},
   "outputs": [
    {
     "name": "stderr",
     "output_type": "stream",
     "text": [
      "/apps/Arch/software/PyTorch-bundle/2.1.2-foss-2023a-CUDA-12.1.1/lib/python3.11/site-packages/torchvision/models/_utils.py:208: UserWarning: The parameter 'pretrained' is deprecated since 0.13 and may be removed in the future, please use 'weights' instead.\n",
      "  warnings.warn(\n",
      "/apps/Arch/software/PyTorch-bundle/2.1.2-foss-2023a-CUDA-12.1.1/lib/python3.11/site-packages/torchvision/models/_utils.py:223: UserWarning: Arguments other than a weight enum or `None` for 'weights' are deprecated since 0.13 and may be removed in the future. The current behavior is equivalent to passing `weights=ResNet50_Weights.IMAGENET1K_V1`. You can also use `weights=ResNet50_Weights.DEFAULT` to get the most up-to-date weights.\n",
      "  warnings.warn(msg)\n"
     ]
    },
    {
     "data": {
      "application/vnd.jupyter.widget-view+json": {
       "model_id": "0516497550f848c7a4e4634ee1fa2fed",
       "version_major": 2,
       "version_minor": 0
      },
      "text/plain": [
       "  0%|          | 0/105 [00:00<?, ?it/s]"
      ]
     },
     "metadata": {},
     "output_type": "display_data"
    },
    {
     "name": "stdout",
     "output_type": "stream",
     "text": [
      "({'acc_avg': 0.7077844142913818, 'AUC': 0.7995427506891938}, 'placeholder')\n"
     ]
    },
    {
     "data": {
      "application/vnd.jupyter.widget-view+json": {
       "model_id": "b930eb1e937a4fc4942086161e76b651",
       "version_major": 2,
       "version_minor": 0
      },
      "text/plain": [
       "  0%|          | 0/105 [00:00<?, ?it/s]"
      ]
     },
     "metadata": {},
     "output_type": "display_data"
    },
    {
     "name": "stdout",
     "output_type": "stream",
     "text": [
      "({'acc_avg': 0.7604790329933167, 'AUC': 0.8340479886794308}, 'placeholder')\n"
     ]
    },
    {
     "data": {
      "application/vnd.jupyter.widget-view+json": {
       "model_id": "c8b996fac1d746848950a8a60b94de67",
       "version_major": 2,
       "version_minor": 0
      },
      "text/plain": [
       "  0%|          | 0/105 [00:00<?, ?it/s]"
      ]
     },
     "metadata": {},
     "output_type": "display_data"
    },
    {
     "name": "stdout",
     "output_type": "stream",
     "text": [
      "({'acc_avg': 0.8616766333580017, 'AUC': 0.9038048019767173}, 'placeholder')\n"
     ]
    },
    {
     "data": {
      "application/vnd.jupyter.widget-view+json": {
       "model_id": "b6d70ea84cb146e6b58ef9a63280225c",
       "version_major": 2,
       "version_minor": 0
      },
      "text/plain": [
       "  0%|          | 0/105 [00:00<?, ?it/s]"
      ]
     },
     "metadata": {},
     "output_type": "display_data"
    },
    {
     "name": "stdout",
     "output_type": "stream",
     "text": [
      "({'acc_avg': 0.901197612285614, 'AUC': 0.9305808875510932}, 'placeholder')\n"
     ]
    },
    {
     "data": {
      "application/vnd.jupyter.widget-view+json": {
       "model_id": "ec2f8099026f4decaa14fe6f558b1e2c",
       "version_major": 2,
       "version_minor": 0
      },
      "text/plain": [
       "  0%|          | 0/105 [00:00<?, ?it/s]"
      ]
     },
     "metadata": {},
     "output_type": "display_data"
    },
    {
     "name": "stdout",
     "output_type": "stream",
     "text": [
      "({'acc_avg': 0.8856287598609924, 'AUC': 0.9205836650740206}, 'placeholder')\n"
     ]
    },
    {
     "data": {
      "application/vnd.jupyter.widget-view+json": {
       "model_id": "fa4a357a365b44a4bbcd91cac16e057d",
       "version_major": 2,
       "version_minor": 0
      },
      "text/plain": [
       "  0%|          | 0/105 [00:00<?, ?it/s]"
      ]
     },
     "metadata": {},
     "output_type": "display_data"
    },
    {
     "name": "stdout",
     "output_type": "stream",
     "text": [
      "({'acc_avg': 0.8796406984329224, 'AUC': 0.9163884935485377}, 'placeholder')\n"
     ]
    },
    {
     "data": {
      "application/vnd.jupyter.widget-view+json": {
       "model_id": "f1532ce234e34a79b3f25da2c2dfffc4",
       "version_major": 2,
       "version_minor": 0
      },
      "text/plain": [
       "  0%|          | 0/105 [00:00<?, ?it/s]"
      ]
     },
     "metadata": {},
     "output_type": "display_data"
    },
    {
     "name": "stdout",
     "output_type": "stream",
     "text": [
      "({'acc_avg': 0.9065868258476257, 'AUC': 0.934776950069736}, 'placeholder')\n"
     ]
    },
    {
     "data": {
      "application/vnd.jupyter.widget-view+json": {
       "model_id": "582981476c854d838142ec0081be288c",
       "version_major": 2,
       "version_minor": 0
      },
      "text/plain": [
       "  0%|          | 0/105 [00:00<?, ?it/s]"
      ]
     },
     "metadata": {},
     "output_type": "display_data"
    },
    {
     "name": "stdout",
     "output_type": "stream",
     "text": [
      "({'acc_avg': 0.9017964005470276, 'AUC': 0.9308150230067201}, 'placeholder')\n"
     ]
    },
    {
     "data": {
      "application/vnd.jupyter.widget-view+json": {
       "model_id": "5692ace8ab06438d9d0a7e1596db8786",
       "version_major": 2,
       "version_minor": 0
      },
      "text/plain": [
       "  0%|          | 0/105 [00:00<?, ?it/s]"
      ]
     },
     "metadata": {},
     "output_type": "display_data"
    },
    {
     "name": "stdout",
     "output_type": "stream",
     "text": [
      "({'acc_avg': 0.9209581017494202, 'AUC': 0.9442070734012619}, 'placeholder')\n"
     ]
    },
    {
     "data": {
      "application/vnd.jupyter.widget-view+json": {
       "model_id": "01faeb509b5840efbf869232c24bb443",
       "version_major": 2,
       "version_minor": 0
      },
      "text/plain": [
       "  0%|          | 0/105 [00:00<?, ?it/s]"
      ]
     },
     "metadata": {},
     "output_type": "display_data"
    },
    {
     "name": "stdout",
     "output_type": "stream",
     "text": [
      "({'acc_avg': 0.9305388927459717, 'AUC': 0.9513720026338027}, 'placeholder')\n"
     ]
    },
    {
     "name": "stderr",
     "output_type": "stream",
     "text": [
      "/apps/Arch/software/PyTorch-bundle/2.1.2-foss-2023a-CUDA-12.1.1/lib/python3.11/site-packages/torchvision/models/_utils.py:208: UserWarning: The parameter 'pretrained' is deprecated since 0.13 and may be removed in the future, please use 'weights' instead.\n",
      "  warnings.warn(\n",
      "/apps/Arch/software/PyTorch-bundle/2.1.2-foss-2023a-CUDA-12.1.1/lib/python3.11/site-packages/torchvision/models/_utils.py:223: UserWarning: Arguments other than a weight enum or `None` for 'weights' are deprecated since 0.13 and may be removed in the future. The current behavior is equivalent to passing `weights=ResNet50_Weights.IMAGENET1K_V1`. You can also use `weights=ResNet50_Weights.DEFAULT` to get the most up-to-date weights.\n",
      "  warnings.warn(msg)\n"
     ]
    },
    {
     "data": {
      "application/vnd.jupyter.widget-view+json": {
       "model_id": "508a0e4636bb4eed999ac1023dd9e079",
       "version_major": 2,
       "version_minor": 0
      },
      "text/plain": [
       "  0%|          | 0/105 [00:00<?, ?it/s]"
      ]
     },
     "metadata": {},
     "output_type": "display_data"
    },
    {
     "name": "stdout",
     "output_type": "stream",
     "text": [
      "({'acc_avg': 0.7179640531539917, 'AUC': 0.8050403315839659}, 'placeholder')\n"
     ]
    },
    {
     "data": {
      "application/vnd.jupyter.widget-view+json": {
       "model_id": "9570a880b81e4b83b4a17bc368e54ebc",
       "version_major": 2,
       "version_minor": 0
      },
      "text/plain": [
       "  0%|          | 0/105 [00:00<?, ?it/s]"
      ]
     },
     "metadata": {},
     "output_type": "display_data"
    },
    {
     "name": "stdout",
     "output_type": "stream",
     "text": [
      "({'acc_avg': 0.7514970302581787, 'AUC': 0.8280607172477303}, 'placeholder')\n"
     ]
    },
    {
     "data": {
      "application/vnd.jupyter.widget-view+json": {
       "model_id": "45cdde59a2ac43389f6fc74879136d19",
       "version_major": 2,
       "version_minor": 0
      },
      "text/plain": [
       "  0%|          | 0/105 [00:00<?, ?it/s]"
      ]
     },
     "metadata": {},
     "output_type": "display_data"
    },
    {
     "name": "stdout",
     "output_type": "stream",
     "text": [
      "({'acc_avg': 0.7592814564704895, 'AUC': 0.8334813447990953}, 'placeholder')\n"
     ]
    },
    {
     "data": {
      "application/vnd.jupyter.widget-view+json": {
       "model_id": "cbab4bbf434546f883c5392769ba7e60",
       "version_major": 2,
       "version_minor": 0
      },
      "text/plain": [
       "  0%|          | 0/105 [00:00<?, ?it/s]"
      ]
     },
     "metadata": {},
     "output_type": "display_data"
    },
    {
     "name": "stdout",
     "output_type": "stream",
     "text": [
      "({'acc_avg': 0.7856287360191345, 'AUC': 0.8516013581245417}, 'placeholder')\n"
     ]
    },
    {
     "data": {
      "application/vnd.jupyter.widget-view+json": {
       "model_id": "ce5f7d23a4624c19b6d2d1486a573cb9",
       "version_major": 2,
       "version_minor": 0
      },
      "text/plain": [
       "  0%|          | 0/105 [00:00<?, ?it/s]"
      ]
     },
     "metadata": {},
     "output_type": "display_data"
    },
    {
     "name": "stdout",
     "output_type": "stream",
     "text": [
      "({'acc_avg': 0.7718563079833984, 'AUC': 0.8423518861847553}, 'placeholder')\n"
     ]
    },
    {
     "data": {
      "application/vnd.jupyter.widget-view+json": {
       "model_id": "0106107def0447be8d841a4768a5ff8d",
       "version_major": 2,
       "version_minor": 0
      },
      "text/plain": [
       "  0%|          | 0/105 [00:00<?, ?it/s]"
      ]
     },
     "metadata": {},
     "output_type": "display_data"
    },
    {
     "name": "stdout",
     "output_type": "stream",
     "text": [
      "({'acc_avg': 0.7970060110092163, 'AUC': 0.8588404260328844}, 'placeholder')\n"
     ]
    },
    {
     "data": {
      "application/vnd.jupyter.widget-view+json": {
       "model_id": "607c6e7c454a44ed8e71b50f059b2816",
       "version_major": 2,
       "version_minor": 0
      },
      "text/plain": [
       "  0%|          | 0/105 [00:00<?, ?it/s]"
      ]
     },
     "metadata": {},
     "output_type": "display_data"
    },
    {
     "name": "stdout",
     "output_type": "stream",
     "text": [
      "({'acc_avg': 0.8017964363098145, 'AUC': 0.8622295290817419}, 'placeholder')\n"
     ]
    },
    {
     "data": {
      "application/vnd.jupyter.widget-view+json": {
       "model_id": "e65db40c2c9243b9b2121b997dd62a11",
       "version_major": 2,
       "version_minor": 0
      },
      "text/plain": [
       "  0%|          | 0/105 [00:00<?, ?it/s]"
      ]
     },
     "metadata": {},
     "output_type": "display_data"
    },
    {
     "name": "stdout",
     "output_type": "stream",
     "text": [
      "({'acc_avg': 0.8143712282180786, 'AUC': 0.8707133945637594}, 'placeholder')\n"
     ]
    },
    {
     "data": {
      "application/vnd.jupyter.widget-view+json": {
       "model_id": "48dab197aa9449eaac6969aa195ce3a6",
       "version_major": 2,
       "version_minor": 0
      },
      "text/plain": [
       "  0%|          | 0/105 [00:00<?, ?it/s]"
      ]
     },
     "metadata": {},
     "output_type": "display_data"
    },
    {
     "name": "stdout",
     "output_type": "stream",
     "text": [
      "({'acc_avg': 0.8071856498718262, 'AUC': 0.8663720107412308}, 'placeholder')\n"
     ]
    },
    {
     "data": {
      "application/vnd.jupyter.widget-view+json": {
       "model_id": "26071e8622264866ada6eda721daab12",
       "version_major": 2,
       "version_minor": 0
      },
      "text/plain": [
       "  0%|          | 0/105 [00:00<?, ?it/s]"
      ]
     },
     "metadata": {},
     "output_type": "display_data"
    },
    {
     "name": "stdout",
     "output_type": "stream",
     "text": [
      "({'acc_avg': 0.8251497149467468, 'AUC': 0.8788336407827276}, 'placeholder')\n"
     ]
    },
    {
     "data": {
      "text/plain": [
       "<matplotlib.legend.Legend at 0x14b22f521750>"
      ]
     },
     "execution_count": 4,
     "metadata": {},
     "output_type": "execute_result"
    },
    {
     "data": {
      "image/png": "[encoded data removed]",
      "text/plain": [
       "<Figure size 640x480 with 1 Axes>"
      ]
     },
     "metadata": {},
     "output_type": "display_data"
    }
   ],
   "source": [
    "import time\n",
    "import datetime\n",
    "import gc\n",
    "import argparse\n",
    "import torch\n",
    "import torch.cuda\n",
    "import transformers\n",
    "from src.server import *\n",
    "from src.client import *\n",
    "import src.datasets as my_datasets\n",
    "# from dataclasses import dataclass\n",
    "from src.splitter import *\n",
    "from src.utils import *\n",
    "from src.dataset_bundle import *\n",
    "from wilds.common.data_loaders import get_eval_loader\n",
    "from wilds import get_dataset\n",
    "import matplotlib.pyplot as plt\n",
    "%matplotlib inline \n",
    "import wandb\n",
    "from wandb_env import WANDB_ENTITY, WANDB_PROJECT\n",
    "\n",
    "\n",
    "\n",
    "\n",
    "\n",
    "\n",
    "\n",
    "def get_result(config_file, dataset_name):\n",
    "    device = torch.device(\"cuda\" if torch.cuda.is_available() else \"cpu\")\n",
    "    with open(config_file) as fh:\n",
    "        config = json.load(fh)\n",
    "        \n",
    "    \n",
    "    seed = 1\n",
    "    set_seed(seed)\n",
    "    server_method=config[\"server_method\"]\n",
    "    data_path = config['data_path']\n",
    "    config['fraction']=1\n",
    "    # initialize data\n",
    "    if dataset_name.lower() == 'pacs':\n",
    "        dataset = my_datasets.PACS(version='1.0', root_dir=config['dataset_path'], download=True)\n",
    "    elif dataset_name.lower() == 'celeba':\n",
    "        dataset = get_dataset(dataset=\"celebA\", root_dir=config['dataset_path'], download=True)\n",
    "    else:\n",
    "        dataset = get_dataset(dataset=config[\"dataset\"], root_dir=config['dataset_path'], download=True)\n",
    "    ds_bundle = eval(config[\"dataset\"])(dataset, probabilistic=False)\n",
    "    total_subset = dataset.get_subset('train', transform=ds_bundle.train_transform)\n",
    "    \n",
    "    testloader = {}\n",
    "    for split in dataset.split_names:\n",
    "        if split != 'train':\n",
    "            ds = dataset.get_subset(split, transform=ds_bundle.test_transform)\n",
    "            dl = get_eval_loader(loader='standard', dataset=ds, batch_size=16)\n",
    "            testloader[split] = dl\n",
    "    \n",
    "    \n",
    "    sampler = RandomSampler(total_subset, replacement=True)\n",
    "    global_dataloader = DataLoader(total_subset, batch_size=16, sampler=sampler)\n",
    "    \n",
    "    # num_shards = config['num_clients']\n",
    "    # if num_shards == 1:\n",
    "    #     training_datasets = [total_subset]\n",
    "    # elif num_shards > 1:\n",
    "    #     training_datasets = NonIIDSplitter(num_shards=num_shards, iid=hparam['iid'], seed=seed).split(dataset.get_subset('train'), ds_bundle.groupby_fields, transform=ds_bundle.train_transform)\n",
    "    # else:\n",
    "    #     raise ValueError(\"num_shards should be greater or equal to 1, we got {}\".format(num_shards))\n",
    "    \n",
    "    # initialize server (model should be initialized in the server. )\n",
    "    \n",
    "    central_server = eval(server_method)(device, ds_bundle, config)\n",
    "    acc=[]\n",
    "    auc=[]\n",
    "    \n",
    "    N=config[\"num_rounds\"]\n",
    "    for i in range(N):\n",
    "        central_server.setup_model(\"../models/\"+str(config[\"dataset\"].lower())+\"_ERM_\"+str(config[\"server_method\"])+\"_\"+str(config[\"iid\"])+\"_\"+str(config[\"imbalanced_split\"])+\"_\"+str(i)+\".pth\", 0)\n",
    "        central_server.register_testloader(testloader)\n",
    "        #    self._split_names = {'train': 'Train', 'val': 'Validation (OOD/Trans)',\n",
    "        #                            'test': 'Test (OOD/Trans)', 'id_val': 'Validation (ID/Cis)',\n",
    "        #                            'id_test': 'Test (ID/Cis)'}\n",
    "        res_dict, res_str=central_server.evaluate_global_model(testloader['test']) ## test on test split\n",
    "        acc.append(res_dict['acc_avg']) # take the average accuracy for now. Should be changed for other datasets maybe?\n",
    "        #auc.append(res_dict['AUC'])\n",
    "    \n",
    "    return acc#,auc\n",
    "    \n",
    "\n",
    "## still hardcoded here\n",
    "dataset_name=\"PACS\"#\"celebA\"#\"PACS\"\n",
    "files = [\"config.json\",\"configfedavg.json\"]\n",
    "acc_res=[]\n",
    "auc_res=[]\n",
    "for config_file in files:\n",
    "    acc=get_result(config_file, dataset_name)\n",
    "    acc_res.append(acc)\n",
    "    #auc_res.append(auc)\n",
    "plt.xlabel(\"Communication rounds\")\n",
    "plt.ylabel(\"Average Accuracy\")\n",
    "plt.plot(acc_res[0])\n",
    "plt.plot(acc_res[1])\n",
    "plt.title(dataset_name)\n",
    "plt.legend([\"Uniform\", \"FedAvg\"])\n",
    "#plt.plot(acc_res[1])\n",
    "#plt.legend([\"IID\", \"OOD\"])\n"
   ]
  },
  {
   "cell_type": "code",
   "execution_count": null,
   "id": "dece4c44-a61c-4694-b844-9c3f9fb17c09",
   "metadata": {},
   "outputs": [],
   "source": [
    "#print(acc['acc_avg'])\n",
    "# A=[]\n",
    "# for el in acc:\n",
    "#     #print(el['acc_avg'])\n",
    "#     A.append(el['acc_avg'])\n",
    "#plt.plot(acc)"
   ]
  },
  {
   "cell_type": "code",
   "execution_count": null,
   "id": "258fb694",
   "metadata": {},
   "outputs": [],
   "source": []
  }
 ],
 "metadata": {
  "kernelspec": {
   "display_name": "feddg",
   "language": "python",
   "name": "my_venv"
  },
  "language_info": {
   "codemirror_mode": {
    "name": "ipython",
    "version": 3
   },
   "file_extension": ".py",
   "mimetype": "text/x-python",
   "name": "python",
   "nbconvert_exporter": "python",
   "pygments_lexer": "ipython3",
   "version": "3.11.3"
  }
 },
 "nbformat": 4,
 "nbformat_minor": 5
}
