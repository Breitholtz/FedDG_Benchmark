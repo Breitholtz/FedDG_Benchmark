{
 "cells": [
  {
   "cell_type": "code",
   "execution_count": 1,
   "id": "5d74dc97",
   "metadata": {},
   "outputs": [],
   "source": [
    "from src.models import code_gpt_py\n",
    "import torchvision.transforms as transforms\n",
    "from src.dataset_bundle import PACS as PACSBundle\n",
    "import torch\n",
    "from wilds import get_dataset\n",
    "from wilds.common.data_loaders import get_train_loader\n",
    "from wilds.common.grouper import CombinatorialGrouper\n",
    "from wilds.common.data_loaders import get_eval_loader, get_train_loader\n",
    "import matplotlib.pyplot as plt\n",
    "from src.datasets import PACS\n",
    "import pandas as pd\n",
    "from pathlib import Path\n",
    "import matplotlib.pyplot as plot"
   ]
  },
  {
   "cell_type": "code",
   "execution_count": 2,
   "id": "86c2fc43",
   "metadata": {},
   "outputs": [
    {
     "name": "stdout",
     "output_type": "stream",
     "text": [
      "[1 1 1 ... 0 0 0]\n"
     ]
    },
    {
     "name": "stderr",
     "output_type": "stream",
     "text": [
      "/home/min/a/bai116/anaconda3/envs/dg/lib/python3.10/site-packages/torchvision/models/_utils.py:208: UserWarning: The parameter 'pretrained' is deprecated since 0.13 and will be removed in 0.15, please use 'weights' instead.\n",
      "  warnings.warn(\n",
      "/home/min/a/bai116/anaconda3/envs/dg/lib/python3.10/site-packages/torchvision/models/_utils.py:223: UserWarning: Arguments other than a weight enum or `None` for 'weights' are deprecated since 0.13 and will be removed in 0.15. The current behavior is equivalent to passing `weights=ResNet50_Weights.IMAGENET1K_V1`. You can also use `weights=ResNet50_Weights.DEFAULT` to get the most up-to-date weights.\n",
      "  warnings.warn(msg)\n"
     ]
    },
    {
     "name": "stdout",
     "output_type": "stream",
     "text": [
      "5683\n"
     ]
    }
   ],
   "source": [
    "root_dir = \"/local/scratch/a/shared/datasets/\"\n",
    "# dataset = get_dataset(dataset='domainnet', root_dir=root_dir, download=True, use_sentry=True)\n",
    "dataset = PACS(version='1.0', root_dir=root_dir, download=True)\n",
    "print(dataset._split_array)\n",
    "ds_bundle = PACSBundle(dataset)\n",
    "training_set = dataset.get_subset('train', transform=ds_bundle.train_transform)\n",
    "print(len(training_set))\n",
    "dataloader = get_train_loader(\"group\", training_set, batch_size=64, uniform_over_groups=None, grouper=ds_bundle.grouper, distinct_groups=True, n_groups_per_batch=2)\n",
    "for batch in dataloader:\n",
    "    x = batch[0]\n",
    "    y = batch[1]\n",
    "    metadata= batch[2]\n",
    "    break"
   ]
  },
  {
   "cell_type": "code",
   "execution_count": 3,
   "id": "deb19a62",
   "metadata": {},
   "outputs": [
    {
     "name": "stdout",
     "output_type": "stream",
     "text": [
      "tensor([[   3,    0, 6719,    1],\n",
      "        [   3,    2, 8041,    1],\n",
      "        [   3,    4, 9321,    1],\n",
      "        [   3,    4, 9149,    1],\n",
      "        [   3,    4, 9287,    1],\n",
      "        [   3,    4, 9736,    1],\n",
      "        [   3,    2, 7930,    1],\n",
      "        [   3,    4, 9718,    1],\n",
      "        [   3,    3, 8916,    1],\n",
      "        [   3,    2, 7775,    1],\n",
      "        [   3,    2, 8042,    1],\n",
      "        [   3,    1, 7259,    1],\n",
      "        [   3,    1, 7426,    1],\n",
      "        [   3,    1, 7206,    1],\n",
      "        [   3,    4, 9154,    1],\n",
      "        [   3,    1, 6869,    1],\n",
      "        [   3,    1, 7324,    1],\n",
      "        [   3,    4, 9505,    1],\n",
      "        [   3,    6, 9984,    1],\n",
      "        [   3,    1, 7091,    1],\n",
      "        [   3,    3, 8683,    1],\n",
      "        [   3,    1, 7467,    1],\n",
      "        [   3,    0, 6066,    1],\n",
      "        [   3,    6, 9905,    1],\n",
      "        [   3,    3, 8655,    1],\n",
      "        [   3,    1, 6978,    1],\n",
      "        [   3,    2, 8214,    1],\n",
      "        [   3,    4, 9593,    1],\n",
      "        [   3,    0, 6577,    1],\n",
      "        [   3,    4, 9237,    1],\n",
      "        [   3,    3, 8853,    1],\n",
      "        [   3,    3, 8468,    1],\n",
      "        [   2,    6, 4245,    1],\n",
      "        [   2,    0, 2301,    1],\n",
      "        [   2,    4, 3411,    1],\n",
      "        [   2,    1, 2750,    1],\n",
      "        [   2,    6, 4323,    1],\n",
      "        [   2,    3, 3264,    1],\n",
      "        [   2,    0, 2130,    1],\n",
      "        [   2,    1, 2497,    1],\n",
      "        [   2,    6, 4087,    1],\n",
      "        [   2,    2, 2909,    1],\n",
      "        [   2,    2, 2926,    1],\n",
      "        [   2,    2, 3119,    1],\n",
      "        [   2,    1, 2887,    1],\n",
      "        [   2,    6, 4301,    1],\n",
      "        [   2,    2, 2986,    1],\n",
      "        [   2,    2, 3101,    1],\n",
      "        [   2,    6, 4192,    1],\n",
      "        [   2,    1, 2560,    1],\n",
      "        [   2,    1, 2871,    1],\n",
      "        [   2,    0, 2253,    1],\n",
      "        [   2,    6, 4140,    1],\n",
      "        [   2,    5, 3857,    1],\n",
      "        [   2,    4, 3665,    1],\n",
      "        [   2,    6, 4147,    1],\n",
      "        [   2,    0, 2228,    1],\n",
      "        [   2,    4, 3451,    1],\n",
      "        [   2,    1, 2642,    1],\n",
      "        [   2,    2, 2997,    1],\n",
      "        [   2,    6, 4131,    1],\n",
      "        [   2,    4, 3443,    1],\n",
      "        [   2,    1, 2864,    1],\n",
      "        [   2,    2, 2901,    1]])\n"
     ]
    }
   ],
   "source": [
    "print(metadata)\n",
    "\n"
   ]
  },
  {
   "cell_type": "code",
   "execution_count": null,
   "id": "bbd2528f",
   "metadata": {},
   "outputs": [],
   "source": [
    "another_dataset._split_array"
   ]
  },
  {
   "cell_type": "code",
   "execution_count": null,
   "id": "373ee3db",
   "metadata": {},
   "outputs": [],
   "source": [
    "df['category'].values"
   ]
  },
  {
   "cell_type": "code",
   "execution_count": null,
   "id": "12bd5739",
   "metadata": {},
   "outputs": [],
   "source": [
    "df['y'].values"
   ]
  },
  {
   "cell_type": "code",
   "execution_count": null,
   "id": "f8287722",
   "metadata": {},
   "outputs": [],
   "source": []
  }
 ],
 "metadata": {
  "kernelspec": {
   "display_name": "Python 3 (ipykernel)",
   "language": "python",
   "name": "python3"
  },
  "language_info": {
   "codemirror_mode": {
    "name": "ipython",
    "version": 3
   },
   "file_extension": ".py",
   "mimetype": "text/x-python",
   "name": "python",
   "nbconvert_exporter": "python",
   "pygments_lexer": "ipython3",
   "version": "3.10.4"
  }
 },
 "nbformat": 4,
 "nbformat_minor": 5
}
