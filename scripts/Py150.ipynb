{
 "cells": [
  {
   "cell_type": "code",
   "execution_count": 9,
   "id": "b681aefc",
   "metadata": {},
   "outputs": [],
   "source": [
    "from src.models import code_gpt_py\n",
    "from src.dataset_bundle import Py150\n",
    "import torch\n",
    "from wilds import get_dataset\n",
    "from wilds.common.data_loaders import get_train_loader\n",
    "from wilds.common.grouper import CombinatorialGrouper\n",
    "from src.splitter import NonIIDSplitter"
   ]
  },
  {
   "cell_type": "code",
   "execution_count": 10,
   "id": "3bd6c13d",
   "metadata": {},
   "outputs": [],
   "source": [
    "root_dir = \"/local/scratch/a/shared/datasets/\"\n",
    "dataset = get_dataset(dataset='py150', root_dir=root_dir, download=True)\n",
    "ds = Py150(dataset)"
   ]
  },
  {
   "cell_type": "code",
   "execution_count": 3,
   "id": "6eba05a7",
   "metadata": {},
   "outputs": [
    {
     "ename": "KeyboardInterrupt",
     "evalue": "",
     "output_type": "error",
     "traceback": [
      "\u001b[0;31m---------------------------------------------------------------------------\u001b[0m",
      "\u001b[0;31mKeyboardInterrupt\u001b[0m                         Traceback (most recent call last)",
      "Input \u001b[0;32mIn [3]\u001b[0m, in \u001b[0;36m<cell line: 1>\u001b[0;34m()\u001b[0m\n\u001b[0;32m----> 1\u001b[0m training_datasets \u001b[38;5;241m=\u001b[39m \u001b[43mNonIIDSplitter\u001b[49m\u001b[43m(\u001b[49m\u001b[43mnum_shards\u001b[49m\u001b[38;5;241;43m=\u001b[39;49m\u001b[38;5;241;43m1\u001b[39;49m\u001b[43m,\u001b[49m\u001b[43m \u001b[49m\u001b[43miid\u001b[49m\u001b[38;5;241;43m=\u001b[39;49m\u001b[38;5;241;43m1\u001b[39;49m\u001b[43m,\u001b[49m\u001b[43m \u001b[49m\u001b[43mseed\u001b[49m\u001b[38;5;241;43m=\u001b[39;49m\u001b[38;5;241;43m8989\u001b[39;49m\u001b[43m)\u001b[49m\u001b[38;5;241;43m.\u001b[39;49m\u001b[43msplit\u001b[49m\u001b[43m(\u001b[49m\u001b[43mdataset\u001b[49m\u001b[38;5;241;43m.\u001b[39;49m\u001b[43mget_subset\u001b[49m\u001b[43m(\u001b[49m\u001b[38;5;124;43m'\u001b[39;49m\u001b[38;5;124;43mtrain\u001b[39;49m\u001b[38;5;124;43m'\u001b[39;49m\u001b[43m)\u001b[49m\u001b[43m,\u001b[49m\u001b[43m \u001b[49m\u001b[43mds\u001b[49m\u001b[38;5;241;43m.\u001b[39;49m\u001b[43mgroupby_fields\u001b[49m\u001b[43m,\u001b[49m\u001b[43m \u001b[49m\u001b[43mtransform\u001b[49m\u001b[38;5;241;43m=\u001b[39;49m\u001b[43mds\u001b[49m\u001b[38;5;241;43m.\u001b[39;49m\u001b[43mtrain_transform\u001b[49m\u001b[43m)\u001b[49m\n",
      "File \u001b[0;32m~/dg/domain-generalization-fed-learning/src/splitter.py:99\u001b[0m, in \u001b[0;36mNonIIDSplitter.split\u001b[0;34m(self, dataset, domain_field, transform)\u001b[0m\n\u001b[1;32m     97\u001b[0m \u001b[38;5;28;01mfor\u001b[39;00m col \u001b[38;5;129;01min\u001b[39;00m \u001b[38;5;28mrange\u001b[39m(num_domains):\n\u001b[1;32m     98\u001b[0m     diff_mask[\u001b[38;5;241m0\u001b[39m:diff[col],col] \u001b[38;5;241m=\u001b[39m \u001b[38;5;241m1\u001b[39m\n\u001b[0;32m---> 99\u001b[0m     final_examples_per_shards \u001b[38;5;241m=\u001b[39m \u001b[43m(\u001b[49m\u001b[43mnp\u001b[49m\u001b[38;5;241;43m.\u001b[39;49m\u001b[43mrint\u001b[49m\u001b[43m(\u001b[49m\u001b[43mnp_int_examples_per_shards\u001b[49m\u001b[43m \u001b[49m\u001b[38;5;241;43m+\u001b[39;49m\u001b[43m \u001b[49m\u001b[43mdiff_mask\u001b[49m\u001b[43m)\u001b[49m\u001b[43m)\u001b[49m\u001b[38;5;241;43m.\u001b[39;49m\u001b[43mastype\u001b[49m\u001b[43m(\u001b[49m\u001b[38;5;28;43mint\u001b[39;49m\u001b[43m)\u001b[49m\n\u001b[1;32m    100\u001b[0m \u001b[38;5;66;03m# print(\"final_examples_per_shards:\")\u001b[39;00m\n\u001b[1;32m    101\u001b[0m \u001b[38;5;66;03m# print(final_examples_per_shards)\u001b[39;00m\n\u001b[1;32m    102\u001b[0m \u001b[38;5;66;03m# print(\"!\")\u001b[39;00m\n\u001b[0;32m   (...)\u001b[0m\n\u001b[1;32m    110\u001b[0m \u001b[38;5;66;03m# -----sampling samples according to the final_examples_per_sahrds\u001b[39;00m\n\u001b[1;32m    111\u001b[0m \u001b[38;5;66;03m# shuffle the indices for each domains.\u001b[39;00m\n\u001b[1;32m    112\u001b[0m indices_per_domain \u001b[38;5;241m=\u001b[39m [] \u001b[38;5;66;03m# assert len(indices_per_domain) == num_domains\u001b[39;00m\n",
      "\u001b[0;31mKeyboardInterrupt\u001b[0m: "
     ]
    }
   ],
   "source": [
    "# training_datasets = NonIIDSplitter(num_shards=1, iid=1, seed=8989).split(dataset.get_subset('train'), ds.groupby_fields, transform=ds.train_transform)\n",
    "# grouper = CombinatorialGrouper(dataset=dataset, groupby_fields=['repo'])\n",
    "# dataloader = get_train_loader('standard', training_datasets[0], batch_size=6, uniform_over_groups=None, grouper=grouper, distinct_groups=True, n_groups_per_batch=2)"
   ]
  },
  {
   "cell_type": "code",
   "execution_count": 8,
   "id": "1d95b3a3",
   "metadata": {},
   "outputs": [
    {
     "name": "stdout",
     "output_type": "stream",
     "text": [
      "tensor(5477)\n"
     ]
    }
   ],
   "source": [
    "training_dataset = dataset.get_subset('train')\n",
    "\n",
    "print((training_dataset.metadata_array[:,0].bincount() > 0).sum())"
   ]
  },
  {
   "cell_type": "code",
   "execution_count": null,
   "id": "4cc2e615",
   "metadata": {},
   "outputs": [],
   "source": [
    "model_2 = nn.Sequential(model[0], model[1])\n",
    "for batch in dataloader:\n",
    "    print(batch[0], batch[1], batch[2])\n",
    "    print(batch[0].shape)\n",
    "    y = model[1](model[0](batch[0]))\n",
    "    y_2 = model_2(batch[0])\n",
    "    print(y-y_2)\n",
    "    break"
   ]
  },
  {
   "cell_type": "code",
   "execution_count": 51,
   "id": "e241fdc5",
   "metadata": {},
   "outputs": [
    {
     "name": "stdout",
     "output_type": "stream",
     "text": [
      "<wilds.common.metrics.loss.MultiTaskLoss object at 0x7fc51fca29e0>\n",
      "{'loss_all': 3.494384527206421}\n"
     ]
    }
   ],
   "source": [
    "from wilds.common.metrics.loss import MultiTaskLoss\n",
    "import torch.nn as nn\n",
    "criterion = MultiTaskLoss(loss_fn=nn.CrossEntropyLoss(reduction='none', ignore_index=-100))\n",
    "print(criterion)\n",
    "print(criterion.compute(y, batch[1]))"
   ]
  },
  {
   "cell_type": "code",
   "execution_count": 57,
   "id": "b5708d4d",
   "metadata": {},
   "outputs": [
    {
     "name": "stdout",
     "output_type": "stream",
     "text": [
      "tensor([[ True,  True,  True,  ..., False, False, False],\n",
      "        [ True,  True,  True,  ..., False, False, False],\n",
      "        [ True,  True, False,  ..., False, False, False],\n",
      "        [ True,  True, False,  ...,  True,  True, False],\n",
      "        [ True, False, False,  ..., False, False, False],\n",
      "        [ True,  True,  True,  ...,  True,  True, False]])\n",
      "torch.Size([6, 255])\n",
      "torch.Size([6, 255, 50001])\n",
      "torch.Size([772, 50001])\n",
      "3.4943840503692627\n"
     ]
    }
   ],
   "source": [
    "is_labeled = ~torch.isnan(batch[1])\n",
    "print(is_labeled.shape)\n",
    "batch_idx = torch.where(is_labeled)[0]\n",
    "print(y.shape)\n",
    "flattened_y_pred = y[is_labeled]\n",
    "flattened_y_true = batch[1][is_labeled]\n",
    "print(flattened_y_pred.shape)\n",
    "loss = nn.CrossEntropyLoss()(flattened_y_pred, flattened_y_true.long())\n",
    "print(loss.item())"
   ]
  },
  {
   "cell_type": "code",
   "execution_count": 29,
   "id": "8a00e061",
   "metadata": {},
   "outputs": [
    {
     "name": "stdout",
     "output_type": "stream",
     "text": [
      "torch.Size([6, 255])\n"
     ]
    }
   ],
   "source": [
    "print(batch[1].shape)"
   ]
  },
  {
   "cell_type": "code",
   "execution_count": 31,
   "id": "8812a6ae",
   "metadata": {},
   "outputs": [
    {
     "data": {
      "text/plain": [
       "tensor([[5.8000e+02, 1.6894e+04, 9.9500e+02,  ...,        nan,        nan,\n",
       "                nan],\n",
       "        [5.8000e+02, 5.5430e+03, 7.3000e+01,  ...,        nan,        nan,\n",
       "                nan],\n",
       "        [9.9500e+02, 4.8540e+03,        nan,  ...,        nan,        nan,\n",
       "                nan],\n",
       "        [9.9500e+02, 2.0985e+04,        nan,  ..., 4.0000e+00, 3.5010e+03,\n",
       "                nan],\n",
       "        [9.8100e+02,        nan,        nan,  ...,        nan,        nan,\n",
       "                nan],\n",
       "        [5.8000e+02, 7.6540e+03, 9.9500e+02,  ..., 4.3500e+02, 6.1700e+02,\n",
       "                nan]])"
      ]
     },
     "execution_count": 31,
     "metadata": {},
     "output_type": "execute_result"
    }
   ],
   "source": [
    "batch[1]"
   ]
  },
  {
   "cell_type": "code",
   "execution_count": null,
   "id": "f7696f19",
   "metadata": {},
   "outputs": [],
   "source": []
  }
 ],
 "metadata": {
  "kernelspec": {
   "display_name": "Python 3 (ipykernel)",
   "language": "python",
   "name": "python3"
  },
  "language_info": {
   "codemirror_mode": {
    "name": "ipython",
    "version": 3
   },
   "file_extension": ".py",
   "mimetype": "text/x-python",
   "name": "python",
   "nbconvert_exporter": "python",
   "pygments_lexer": "ipython3",
   "version": "3.10.4"
  }
 },
 "nbformat": 4,
 "nbformat_minor": 5
}
